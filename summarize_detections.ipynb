{
 "cells": [
  {
   "cell_type": "code",
   "execution_count": 1,
   "id": "e823d00f-1739-444f-a33e-43214d90b28b",
   "metadata": {},
   "outputs": [],
   "source": [
    "# import libraries\n",
    "import os\n",
    "import json\n",
    "import pandas as pd\n",
    "from datetime import datetime, timedelta"
   ]
  },
  {
   "cell_type": "code",
   "execution_count": 3,
   "id": "f95809ab-756a-4ec0-aef9-a1ac9df38b13",
   "metadata": {},
   "outputs": [],
   "source": [
    "# Directory containing folders with JSON files\n",
    "base_directory = r\"Y:\\LP_birds\\LP_birds_2023\\ARUs\\ARU_audiofiles\"\n",
    "\n",
    "# set output .csv path\n",
    "\n",
    "out_csv = r'Y:\\LP_birds\\LP_birds_2023\\ARUs\\ARU_audiofiles\\aru_all_detections_ex.csv'"
   ]
  },
  {
   "cell_type": "code",
   "execution_count": 4,
   "id": "ca068023-8d56-456b-a51b-2e85c2e10fc3",
   "metadata": {},
   "outputs": [
    {
     "name": "stdout",
     "output_type": "stream",
     "text": [
      "           ARU_id           common_name      scientific_name        date  \\\n",
      "0      LPC1_13122               Mallard   Anas platyrhynchos  2023-08-07   \n",
      "1      LPC1_13122          Caspian Tern   Hydroprogne caspia  2023-08-07   \n",
      "2      LPC1_13122               Mallard   Anas platyrhynchos  2023-08-07   \n",
      "3      LPC1_13122               Mallard   Anas platyrhynchos  2023-08-07   \n",
      "4      LPC1_13122               Mallard   Anas platyrhynchos  2023-08-07   \n",
      "...           ...                   ...                  ...         ...   \n",
      "37443  LPT2_01315        Common Grackle   Quiscalus quiscula  2023-08-14   \n",
      "37444  LPT2_01315        Common Grackle   Quiscalus quiscula  2023-08-14   \n",
      "37445  LPT2_01315        Common Grackle   Quiscalus quiscula  2023-08-14   \n",
      "37446  LPT2_01315  Red-winged Blackbird  Agelaius phoeniceus  2023-08-14   \n",
      "37447  LPT2_01315          Caspian Tern   Hydroprogne caspia  2023-08-14   \n",
      "\n",
      "           time  confidence  \n",
      "0      04:32:18    0.126827  \n",
      "1      04:32:18    0.126410  \n",
      "2      05:21:48    0.201473  \n",
      "3      05:31:39    0.363126  \n",
      "4      05:32:24    0.411311  \n",
      "...         ...         ...  \n",
      "37443  08:20:42    0.101952  \n",
      "37444  08:20:51    0.166675  \n",
      "37445  08:20:57    0.145993  \n",
      "37446  08:21:03    0.170175  \n",
      "37447  08:25:45    0.230986  \n",
      "\n",
      "[37448 rows x 6 columns]\n"
     ]
    }
   ],
   "source": [
    "# Initialize a list to store the data\n",
    "data_list = []\n",
    "\n",
    "# Recursively traverse subfolders and extract relevant information from JSON files\n",
    "for root, dirs, files in os.walk(base_directory):\n",
    "    for filename in files:\n",
    "        if filename.endswith(\".json\"):\n",
    "            json_file_path = os.path.join(root, filename)\n",
    "            with open(json_file_path, \"r\") as json_file:\n",
    "                data = json.load(json_file)\n",
    "                detections = data.get(\"detections\", [])\n",
    "                for detection in detections:\n",
    "                    common_name = detection.get(\"common_name\")\n",
    "                    scientific_name = detection.get(\"scientific_name\")\n",
    "                    date_time_str = data.get(\"date\")\n",
    "                    date_time = datetime.strptime(date_time_str, \"%Y-%m-%d %H:%M:%S\") if date_time_str else None\n",
    "                    ARU_id = data.get(\"aru_id\")\n",
    "                    confidence = detection.get(\"confidence\")\n",
    "                    start_time_seconds = detection.get(\"start_time\")\n",
    "\n",
    "                    if date_time and start_time_seconds is not None:\n",
    "                        # Calculate the time by adding start_time (in seconds) to the original date and time\n",
    "                        time_delta = timedelta(seconds=start_time_seconds)\n",
    "                        detection_time = date_time + time_delta\n",
    "                    else:\n",
    "                        detection_time = None\n",
    "\n",
    "                    data_list.append({\n",
    "                        \"ARU_id\": ARU_id,\n",
    "                        \"common_name\": common_name,\n",
    "                        \"scientific_name\": scientific_name,\n",
    "                        \"date\": date_time.date() if date_time else None,\n",
    "                        \"time\": detection_time.time() if detection_time else None,\n",
    "                        \"confidence\": confidence\n",
    "                    })\n",
    "\n",
    "# Create a pandas DataFrame from the extracted data\n",
    "df = pd.DataFrame(data_list)\n",
    "\n",
    "# Print the resulting DataFrame\n",
    "print(df)\n"
   ]
  },
  {
   "cell_type": "code",
   "execution_count": 47,
   "id": "d6951ab8-ae86-417b-bec6-86b0de371506",
   "metadata": {},
   "outputs": [],
   "source": [
    "df.to_csv(out_csv)"
   ]
  },
  {
   "cell_type": "code",
   "execution_count": null,
   "id": "43e9abe5-b325-41d2-806c-48a1d7c2ec9c",
   "metadata": {},
   "outputs": [],
   "source": []
  },
  {
   "cell_type": "code",
   "execution_count": null,
   "id": "04dbeb4b-b0b5-44d0-84bc-2cb3a25eb689",
   "metadata": {},
   "outputs": [],
   "source": []
  }
 ],
 "metadata": {
  "kernelspec": {
   "display_name": "aru_analysis",
   "language": "python",
   "name": "aru_analysis"
  },
  "language_info": {
   "codemirror_mode": {
    "name": "ipython",
    "version": 3
   },
   "file_extension": ".py",
   "mimetype": "text/x-python",
   "name": "python",
   "nbconvert_exporter": "python",
   "pygments_lexer": "ipython3",
   "version": "3.10.13"
  }
 },
 "nbformat": 4,
 "nbformat_minor": 5
}
